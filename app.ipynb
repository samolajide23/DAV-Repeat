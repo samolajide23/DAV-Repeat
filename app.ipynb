{
 "cells": [
  {
   "cell_type": "markdown",
   "metadata": {},
   "source": [
    "Loading the Datasets"
   ]
  },
  {
   "cell_type": "code",
   "execution_count": 1,
   "metadata": {},
   "outputs": [
    {
     "name": "stdout",
     "output_type": "stream",
     "text": [
      "World Happiness Report Columns:\n",
      "Index(['Overall rank', 'Country or region', 'Score', 'GDP per capita',\n",
      "       'Social support', 'Healthy life expectancy',\n",
      "       'Freedom to make life choices', 'Generosity',\n",
      "       'Perceptions of corruption'],\n",
      "      dtype='object')\n",
      "\n",
      "Human Development Report Columns:\n",
      "Index(['HDI Rank', 'Country', 'Human Development Index (HDI)',\n",
      "       'Life Expectancy at Birth', 'Expected Years of Education',\n",
      "       'Mean Years of Education', 'Gross National Income (GNI) per Capita',\n",
      "       'GNI per Capita Rank Minus HDI Rank'],\n",
      "      dtype='object')\n"
     ]
    }
   ],
   "source": [
    "import pandas as pd\n",
    "\n",
    "happiness_data = pd.read_csv(\"WorldHappinessReport2019.csv\")\n",
    "\n",
    "hdi_data = pd.read_csv(\"human_development.csv\")\n",
    "\n",
    "print(\"World Happiness Report Columns:\")\n",
    "print(happiness_data.columns)\n",
    "\n",
    "print(\"\\nHuman Development Report Columns:\")\n",
    "print(hdi_data.columns)"
   ]
  },
  {
   "cell_type": "markdown",
   "metadata": {},
   "source": []
  }
 ],
 "metadata": {
  "kernelspec": {
   "display_name": "Python 3",
   "language": "python",
   "name": "python3"
  },
  "language_info": {
   "codemirror_mode": {
    "name": "ipython",
    "version": 3
   },
   "file_extension": ".py",
   "mimetype": "text/x-python",
   "name": "python",
   "nbconvert_exporter": "python",
   "pygments_lexer": "ipython3",
   "version": "3.10.7"
  }
 },
 "nbformat": 4,
 "nbformat_minor": 2
}
