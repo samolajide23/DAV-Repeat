{
 "cells": [
  {
   "cell_type": "markdown",
   "metadata": {},
   "source": [
    "# Loading the Datasets"
   ]
  },
  {
   "cell_type": "code",
   "execution_count": 1,
   "metadata": {},
   "outputs": [
    {
     "name": "stdout",
     "output_type": "stream",
     "text": [
      "World Happiness Report Columns:\n",
      "Index(['Overall rank', 'Country or region', 'Score', 'GDP per capita',\n",
      "       'Social support', 'Healthy life expectancy',\n",
      "       'Freedom to make life choices', 'Generosity',\n",
      "       'Perceptions of corruption'],\n",
      "      dtype='object')\n",
      "\n",
      "Human Development Report Columns:\n",
      "Index(['HDI Rank', 'Country', 'Human Development Index (HDI)',\n",
      "       'Life Expectancy at Birth', 'Expected Years of Education',\n",
      "       'Mean Years of Education', 'Gross National Income (GNI) per Capita',\n",
      "       'GNI per Capita Rank Minus HDI Rank'],\n",
      "      dtype='object')\n"
     ]
    }
   ],
   "source": [
    "import pandas as pd\n",
    "\n",
    "happiness_data = pd.read_csv(\"WorldHappinessReport2019.csv\")\n",
    "\n",
    "hdi_data = pd.read_csv(\"human_development.csv\")\n",
    "\n",
    "print(\"World Happiness Report Columns:\")\n",
    "print(happiness_data.columns)\n",
    "\n",
    "print(\"\\nHuman Development Report Columns:\")\n",
    "print(hdi_data.columns)"
   ]
  },
  {
   "cell_type": "markdown",
   "metadata": {},
   "source": [
    "# Merge the datasets using the 'Country or region' and 'Country' columns"
   ]
  },
  {
   "cell_type": "code",
   "execution_count": 2,
   "metadata": {},
   "outputs": [
    {
     "name": "stdout",
     "output_type": "stream",
     "text": [
      "     Overall rank         Country or region  Score  GDP per capita  \\\n",
      "0               1                   Finland  7.769           1.340   \n",
      "1               2                   Denmark  7.600           1.383   \n",
      "2               3                    Norway  7.554           1.488   \n",
      "3               4                   Iceland  7.494           1.380   \n",
      "4               5               Netherlands  7.488           1.396   \n",
      "..            ...                       ...    ...             ...   \n",
      "130           151                     Yemen  3.380           0.287   \n",
      "131           152                    Rwanda  3.334           0.359   \n",
      "132           154               Afghanistan  3.203           0.350   \n",
      "133           155  Central African Republic  3.083           0.026   \n",
      "134           156               South Sudan  2.853           0.306   \n",
      "\n",
      "     Social support  Healthy life expectancy  Freedom to make life choices  \\\n",
      "0             1.587                    0.986                         0.596   \n",
      "1             1.573                    0.996                         0.592   \n",
      "2             1.582                    1.028                         0.603   \n",
      "3             1.624                    1.026                         0.591   \n",
      "4             1.522                    0.999                         0.557   \n",
      "..              ...                      ...                           ...   \n",
      "130           1.163                    0.463                         0.143   \n",
      "131           0.711                    0.614                         0.555   \n",
      "132           0.517                    0.361                         0.000   \n",
      "133           0.000                    0.105                         0.225   \n",
      "134           0.575                    0.295                         0.010   \n",
      "\n",
      "     Generosity  Perceptions of corruption  HDI Rank  \\\n",
      "0         0.153                      0.393      24.0   \n",
      "1         0.252                      0.410       4.0   \n",
      "2         0.271                      0.341       1.0   \n",
      "3         0.354                      0.118      16.0   \n",
      "4         0.322                      0.298       5.0   \n",
      "..          ...                        ...       ...   \n",
      "130       0.108                      0.077     160.0   \n",
      "131       0.217                      0.411     163.0   \n",
      "132       0.158                      0.025     171.0   \n",
      "133       0.235                      0.035     187.0   \n",
      "134       0.202                      0.091     169.0   \n",
      "\n",
      "                      Country  Human Development Index (HDI)  \\\n",
      "0                     Finland                          0.883   \n",
      "1                     Denmark                          0.923   \n",
      "2                      Norway                          0.944   \n",
      "3                     Iceland                          0.899   \n",
      "4                 Netherlands                          0.922   \n",
      "..                        ...                            ...   \n",
      "130                     Yemen                          0.498   \n",
      "131                    Rwanda                          0.483   \n",
      "132               Afghanistan                          0.465   \n",
      "133  Central African Republic                          0.350   \n",
      "134               South Sudan                          0.467   \n",
      "\n",
      "     Life Expectancy at Birth  Expected Years of Education  \\\n",
      "0                        80.8                         17.1   \n",
      "1                        80.2                         18.7   \n",
      "2                        81.6                         17.5   \n",
      "3                        82.6                         19.0   \n",
      "4                        81.6                         17.9   \n",
      "..                        ...                          ...   \n",
      "130                      63.8                          9.2   \n",
      "131                      64.2                         10.3   \n",
      "132                      60.4                          9.3   \n",
      "133                      50.7                          7.2   \n",
      "134                      55.7                          7.6   \n",
      "\n",
      "     Mean Years of Education Gross National Income (GNI) per Capita  \\\n",
      "0                       10.3                                 38,695   \n",
      "1                       12.7                                 44,025   \n",
      "2                       12.6                                 64,992   \n",
      "3                       10.6                                 35,182   \n",
      "4                       11.9                                 45,435   \n",
      "..                       ...                                    ...   \n",
      "130                      2.6                                  3,519   \n",
      "131                      3.7                                  1,458   \n",
      "132                      3.2                                  1,885   \n",
      "133                      4.2                                    581   \n",
      "134                      5.4                                  2,332   \n",
      "\n",
      "     GNI per Capita Rank Minus HDI Rank  \n",
      "0                                   0.0  \n",
      "1                                  11.0  \n",
      "2                                   5.0  \n",
      "3                                  12.0  \n",
      "4                                   9.0  \n",
      "..                                  ...  \n",
      "130                               -17.0  \n",
      "131                                11.0  \n",
      "132                                -7.0  \n",
      "133                                 1.0  \n",
      "134                                -9.0  \n",
      "\n",
      "[135 rows x 17 columns]\n"
     ]
    }
   ],
   "source": [
    "merged_data = pd.merge(happiness_data, hdi_data, left_on='Country or region', right_on='Country')\n",
    "print(merged_data)"
   ]
  },
  {
   "cell_type": "markdown",
   "metadata": {},
   "source": [
    "# Check for the number of missing values in each column"
   ]
  },
  {
   "cell_type": "code",
   "execution_count": 3,
   "metadata": {},
   "outputs": [
    {
     "name": "stdout",
     "output_type": "stream",
     "text": [
      "\n",
      "Missing values in each column:\n",
      "Overall rank                              0\n",
      "Country or region                         0\n",
      "Score                                     0\n",
      "GDP per capita                            0\n",
      "Social support                            0\n",
      "Healthy life expectancy                   0\n",
      "Freedom to make life choices              0\n",
      "Generosity                                0\n",
      "Perceptions of corruption                 0\n",
      "HDI Rank                                  0\n",
      "Country                                   0\n",
      "Human Development Index (HDI)             0\n",
      "Life Expectancy at Birth                  0\n",
      "Expected Years of Education               0\n",
      "Mean Years of Education                   0\n",
      "Gross National Income (GNI) per Capita    0\n",
      "GNI per Capita Rank Minus HDI Rank        0\n",
      "dtype: int64\n"
     ]
    }
   ],
   "source": [
    "missing_values = merged_data.isnull().sum()\n",
    "print(\"\\nMissing values in each column:\")\n",
    "print(missing_values)"
   ]
  }
 ],
 "metadata": {
  "kernelspec": {
   "display_name": "Python 3",
   "language": "python",
   "name": "python3"
  },
  "language_info": {
   "codemirror_mode": {
    "name": "ipython",
    "version": 3
   },
   "file_extension": ".py",
   "mimetype": "text/x-python",
   "name": "python",
   "nbconvert_exporter": "python",
   "pygments_lexer": "ipython3",
   "version": "3.10.7"
  }
 },
 "nbformat": 4,
 "nbformat_minor": 2
}
